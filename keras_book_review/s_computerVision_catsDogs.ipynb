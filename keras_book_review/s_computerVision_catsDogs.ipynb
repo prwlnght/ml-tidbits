{
 "cells": [
  {
   "cell_type": "code",
   "execution_count": 0,
   "metadata": {
    "colab": {},
    "colab_type": "code",
    "id": "t1YNKFiQFOLd"
   },
   "outputs": [],
   "source": [
    "##Objectives\n",
    "#to read files from google drive (data files)\n",
    "#train various types of CNNs on the microsoft cats, dogs dataset\n",
    "#1. convnet with scratch learning\n",
    "#2. convnet with transfer learning on imagenet\n",
    "#3. convnet with fine-tuning only "
   ]
  },
  {
   "cell_type": "code",
   "execution_count": 2,
   "metadata": {
    "colab": {},
    "colab_type": "code",
    "id": "BQhCuryiGHJo"
   },
   "outputs": [
    {
     "name": "stderr",
     "output_type": "stream",
     "text": [
      "Using TensorFlow backend.\n"
     ]
    }
   ],
   "source": [
    "import os, shutil\n",
    "import keras\n",
    "import numpy as np"
   ]
  },
  {
   "cell_type": "code",
   "execution_count": 3,
   "metadata": {
    "colab": {},
    "colab_type": "code",
    "id": "qMQHgLEQGTGO"
   },
   "outputs": [],
   "source": [
    "#note if you get a file already exists error, delete the corresponding folder, \n",
    "#or check by if not os.path.exists('new_dir_path') etc. \n",
    "data_dir= '/content/gdrive/My Drive/workspace/colab_notebooks/data/kagglecatsanddogs_3367a'\n",
    "small_dir = '/mnt/data/ppaudyal/cats_and_dogs_small'\n",
    "#os.mkdir(small_dir)\n",
    "train_dir= os.path.join(small_dir, 'train')\n",
    "#os.mkdir(train_dir)\n",
    "test_dir = os.path.join(small_dir, 'test')\n",
    "#os.mkdir(test_dir)\n",
    "validation_dir = os.path.join(small_dir, 'validation')\n",
    "#os.mkdir(validation_dir)"
   ]
  },
  {
   "cell_type": "code",
   "execution_count": 0,
   "metadata": {
    "colab": {},
    "colab_type": "code",
    "id": "JVlpFKxkGoTm"
   },
   "outputs": [],
   "source": [
    "train_cats_dir = os.path.join(train_dir, 'cats')\n",
    "#os.mkdir(train_cats_dir)\n",
    "train_dogs_dir = os.path.join(train_dir, 'dogs')\n",
    "#os.mkdir(test_dogs_dir)"
   ]
  },
  {
   "cell_type": "code",
   "execution_count": 0,
   "metadata": {
    "colab": {},
    "colab_type": "code",
    "id": "Vn7U4ABvHl-U"
   },
   "outputs": [],
   "source": [
    "test_cats_dir = os.path.join(test_dir, 'cats')\n",
    "#os.mkdir(test_cats_dir)\n",
    "test_dogs_dir = os.path.join(test_dir, 'dogs')\n",
    "#os.mkdir(validation_dogs_dir)"
   ]
  },
  {
   "cell_type": "code",
   "execution_count": 0,
   "metadata": {
    "colab": {},
    "colab_type": "code",
    "id": "fCJxpzPUIMwG"
   },
   "outputs": [],
   "source": [
    "validation_cats_dir = os.path.join(validation_dir, 'cats')\n",
    "#os.mkdir(validation_cats_dir)\n",
    "validation_dogs_dir = os.path.join(validation_dir, 'dogs')\n",
    "#os.mkdir(validation_dogs_dir)"
   ]
  },
  {
   "cell_type": "code",
   "execution_count": 0,
   "metadata": {
    "colab": {},
    "colab_type": "code",
    "id": "6twO8tKGIbCT"
   },
   "outputs": [],
   "source": [
    "#NOTE:to run only once!\n",
    "#copy first 1000 as train, next 500 as test and the final 500 as validation\n",
    "#first with dog train\n",
    "fnames = [str(i)+'.jpg' for i in range(1000)]\n",
    "for fname in fnames:\n",
    "  src = os.path.join(data_dir, 'Dog', fname)\n",
    "  dst = os.path.join(small_dir, 'train', 'dogs', fname)\n",
    "  shutil.copyfile(src, dst)"
   ]
  },
  {
   "cell_type": "code",
   "execution_count": 0,
   "metadata": {
    "colab": {},
    "colab_type": "code",
    "id": "lOwyycebJl9A"
   },
   "outputs": [],
   "source": [
    "#NOTE:to run only once!\n",
    "#repeat for Cat\n",
    "fnames = [str(i)+'.jpg' for i in range(1000)]\n",
    "for fname in fnames:\n",
    "  src = os.path.join(data_dir, 'Cat', fname)\n",
    "  dst = os.path.join(small_dir, 'train', 'cats', fname)\n",
    "  shutil.copyfile(src, dst)"
   ]
  },
  {
   "cell_type": "code",
   "execution_count": 0,
   "metadata": {
    "colab": {},
    "colab_type": "code",
    "id": "SoTCskQJKzh8"
   },
   "outputs": [],
   "source": [
    "#NOTE:to run only once!\n",
    "fnames = [str(i)+'.jpg' for i in range(1000, 1500)]\n",
    "for fname in fnames:\n",
    "  src = os.path.join(data_dir, 'Dog', fname)\n",
    "  dst = os.path.join(small_dir, 'test', 'dogs', fname)\n",
    "  shutil.copyfile(src, dst)"
   ]
  },
  {
   "cell_type": "code",
   "execution_count": 0,
   "metadata": {
    "colab": {},
    "colab_type": "code",
    "id": "CqF04i9fLW-D"
   },
   "outputs": [],
   "source": [
    "#NOTE:to run only once!\n",
    "#repeat for Cat\n",
    "fnames = [str(i)+'.jpg' for i in range(1000, 1500)]\n",
    "for fname in fnames:\n",
    "  src = os.path.join(data_dir, 'Cat', fname)\n",
    "  dst = os.path.join(small_dir, 'test', 'cats', fname)\n",
    "  shutil.copyfile(src, dst)"
   ]
  },
  {
   "cell_type": "code",
   "execution_count": 0,
   "metadata": {
    "colab": {},
    "colab_type": "code",
    "id": "wwK93EKdLc4z"
   },
   "outputs": [],
   "source": [
    "#NOTE:to run only once!\n",
    "fnames = [str(i)+'.jpg' for i in range(1500, 2000)]\n",
    "for fname in fnames:\n",
    "  src = os.path.join(data_dir, 'Dog', fname)\n",
    "  dst = os.path.join(small_dir, 'validation', 'dogs', fname)\n",
    "  shutil.copyfile(src, dst)"
   ]
  },
  {
   "cell_type": "code",
   "execution_count": 0,
   "metadata": {
    "colab": {},
    "colab_type": "code",
    "id": "cGE0SJweLi0k"
   },
   "outputs": [],
   "source": [
    "#NOTE:to run only once!\n",
    "#repeat for Cat\n",
    "fnames = [str(i)+'.jpg' for i in range(1500, 2000)]\n",
    "for fname in fnames:\n",
    "  src = os.path.join(data_dir, 'Cat', fname)\n",
    "  dst = os.path.join(small_dir, 'validation', 'cats', fname)\n",
    "  shutil.copyfile(src, dst)"
   ]
  },
  {
   "cell_type": "code",
   "execution_count": 4,
   "metadata": {
    "colab": {
     "base_uri": "https://localhost:8080/",
     "height": 88
    },
    "colab_type": "code",
    "executionInfo": {
     "elapsed": 729,
     "status": "ok",
     "timestamp": 1559481567066,
     "user": {
      "displayName": "Prajwal Paudyal",
      "photoUrl": "https://lh6.googleusercontent.com/-BES8QkcnJVo/AAAAAAAAAAI/AAAAAAAAABE/DhpuWCaGI14/s64/photo.jpg",
      "userId": "11952230352989508976"
     },
     "user_tz": 420
    },
    "id": "kJeeT1pBMJ1e",
    "outputId": "7805edb4-e531-448c-ccc4-7b7dccd57d2d"
   },
   "outputs": [],
   "source": [
    "#NOTE:to run only once!\n",
    "#A small convnet for dogs vs. cats classification\n",
    "import keras.layers as layers\n",
    "import keras.models as models\n",
    "\n",
    "model = models.Sequential()\n",
    "model.add(layers.Conv2D(32, (3, 3), activation='relu', \n",
    "                        input_shape=(150, 150, 3)))\n",
    "model.add(layers.MaxPooling2D((2, 2)))\n",
    "model.add(layers.Conv2D(64, (3,3), activation='relu'))\n",
    "model.add(layers.MaxPooling2D((2,2)))\n",
    "model.add(layers.Conv2D(128, (3, 3), activation='relu'))\n",
    "model.add(layers.MaxPooling2D(2,2))\n",
    "model.add(layers.Conv2D(128, (3,3), activation='relu'))\n",
    "model.add(layers.MaxPooling2D(2,2))\n",
    "model.add(layers.Flatten())\n",
    "model.add(layers.Dense(512, activation='relu'))\n",
    "model.add(layers.Dense(1, activation='sigmoid'))"
   ]
  },
  {
   "cell_type": "code",
   "execution_count": 6,
   "metadata": {
    "colab": {},
    "colab_type": "code",
    "id": "33U-6BbDZGT3"
   },
   "outputs": [],
   "source": [
    "import keras.optimizers as optimizers\n",
    "model.compile(optimizer=optimizers.RMSprop(lr=1e-4), metrics=['acc'], loss='binary_crossentropy')\n"
   ]
  },
  {
   "cell_type": "code",
   "execution_count": 7,
   "metadata": {
    "colab": {},
    "colab_type": "code",
    "id": "_XQjFJKYZcuO"
   },
   "outputs": [
    {
     "name": "stdout",
     "output_type": "stream",
     "text": [
      "_________________________________________________________________\n",
      "Layer (type)                 Output Shape              Param #   \n",
      "=================================================================\n",
      "conv2d_1 (Conv2D)            (None, 148, 148, 32)      896       \n",
      "_________________________________________________________________\n",
      "max_pooling2d_1 (MaxPooling2 (None, 74, 74, 32)        0         \n",
      "_________________________________________________________________\n",
      "conv2d_2 (Conv2D)            (None, 72, 72, 64)        18496     \n",
      "_________________________________________________________________\n",
      "max_pooling2d_2 (MaxPooling2 (None, 36, 36, 64)        0         \n",
      "_________________________________________________________________\n",
      "conv2d_3 (Conv2D)            (None, 34, 34, 128)       73856     \n",
      "_________________________________________________________________\n",
      "max_pooling2d_3 (MaxPooling2 (None, 17, 17, 128)       0         \n",
      "_________________________________________________________________\n",
      "conv2d_4 (Conv2D)            (None, 15, 15, 128)       147584    \n",
      "_________________________________________________________________\n",
      "max_pooling2d_4 (MaxPooling2 (None, 7, 7, 128)         0         \n",
      "_________________________________________________________________\n",
      "flatten_1 (Flatten)          (None, 6272)              0         \n",
      "_________________________________________________________________\n",
      "dense_1 (Dense)              (None, 512)               3211776   \n",
      "_________________________________________________________________\n",
      "dense_2 (Dense)              (None, 1)                 513       \n",
      "=================================================================\n",
      "Total params: 3,453,121\n",
      "Trainable params: 3,453,121\n",
      "Non-trainable params: 0\n",
      "_________________________________________________________________\n"
     ]
    }
   ],
   "source": [
    "model.summary()"
   ]
  },
  {
   "cell_type": "code",
   "execution_count": 0,
   "metadata": {
    "colab": {},
    "colab_type": "code",
    "id": "ffEbjviwOOAP"
   },
   "outputs": [],
   "source": [
    "#Preprocessing the data \n",
    "#1. Read the picture files\n",
    "#2. Decode JPEG content to RGB grids of pixels\n",
    "#3. Convert these to floating-point tensors \n",
    "#4. Resclae to [0, 1] "
   ]
  },
  {
   "cell_type": "code",
   "execution_count": 9,
   "metadata": {
    "colab": {},
    "colab_type": "code",
    "id": "qazeIJBhQWgo"
   },
   "outputs": [],
   "source": [
    "ImageDataGenerator = keras.preprocessing.image.ImageDataGenerator"
   ]
  },
  {
   "cell_type": "code",
   "execution_count": 10,
   "metadata": {
    "colab": {},
    "colab_type": "code",
    "id": "67uAlnfEQb5V"
   },
   "outputs": [],
   "source": [
    "train_datagen = ImageDataGenerator(rescale=1./255)\n",
    "test_datagen = ImageDataGenerator(rescale=1./255)"
   ]
  },
  {
   "cell_type": "code",
   "execution_count": 11,
   "metadata": {
    "colab": {
     "base_uri": "https://localhost:8080/",
     "height": 34
    },
    "colab_type": "code",
    "executionInfo": {
     "elapsed": 9759,
     "status": "ok",
     "timestamp": 1559481589457,
     "user": {
      "displayName": "Prajwal Paudyal",
      "photoUrl": "https://lh6.googleusercontent.com/-BES8QkcnJVo/AAAAAAAAAAI/AAAAAAAAABE/DhpuWCaGI14/s64/photo.jpg",
      "userId": "11952230352989508976"
     },
     "user_tz": 420
    },
    "id": "byV0CwppQq07",
    "outputId": "be5cc6df-d7d7-41b2-9f86-83ccd07aa25b"
   },
   "outputs": [
    {
     "name": "stdout",
     "output_type": "stream",
     "text": [
      "Found 2000 images belonging to 2 classes.\n"
     ]
    }
   ],
   "source": [
    "train_generator = train_datagen.flow_from_directory(train_dir, target_size=(150, 150), batch_size=20, class_mode='binary')"
   ]
  },
  {
   "cell_type": "code",
   "execution_count": 12,
   "metadata": {
    "colab": {
     "base_uri": "https://localhost:8080/",
     "height": 34
    },
    "colab_type": "code",
    "executionInfo": {
     "elapsed": 4028,
     "status": "ok",
     "timestamp": 1559481595314,
     "user": {
      "displayName": "Prajwal Paudyal",
      "photoUrl": "https://lh6.googleusercontent.com/-BES8QkcnJVo/AAAAAAAAAAI/AAAAAAAAABE/DhpuWCaGI14/s64/photo.jpg",
      "userId": "11952230352989508976"
     },
     "user_tz": 420
    },
    "id": "VcWS8TVrQ51o",
    "outputId": "d219be95-88e1-4fff-a0c6-d4bfd1eb367c"
   },
   "outputs": [
    {
     "name": "stdout",
     "output_type": "stream",
     "text": [
      "Found 1000 images belonging to 2 classes.\n"
     ]
    }
   ],
   "source": [
    "validation_generator = test_datagen.flow_from_directory(validation_dir, target_size=(150, 150), batch_size=20, class_mode='binary')"
   ]
  },
  {
   "cell_type": "code",
   "execution_count": 13,
   "metadata": {
    "colab": {
     "base_uri": "https://localhost:8080/",
     "height": 51
    },
    "colab_type": "code",
    "executionInfo": {
     "elapsed": 5442,
     "status": "ok",
     "timestamp": 1559481030693,
     "user": {
      "displayName": "Prajwal Paudyal",
      "photoUrl": "https://lh6.googleusercontent.com/-BES8QkcnJVo/AAAAAAAAAAI/AAAAAAAAABE/DhpuWCaGI14/s64/photo.jpg",
      "userId": "11952230352989508976"
     },
     "user_tz": 420
    },
    "id": "YDpGt-Q7R6TA",
    "outputId": "49e0225b-18a9-4f45-bd4d-497e05ead6e2"
   },
   "outputs": [
    {
     "name": "stdout",
     "output_type": "stream",
     "text": [
      "data shape: (20, 150, 150, 3)\n",
      "labels shape: (20,)\n"
     ]
    }
   ],
   "source": [
    "for data_batch, labels_batch in train_generator:\n",
    "  print('data shape:', data_batch.shape)\n",
    "  print('labels shape:', labels_batch.shape)\n",
    "  break"
   ]
  },
  {
   "cell_type": "code",
   "execution_count": null,
   "metadata": {
    "colab": {
     "base_uri": "https://localhost:8080/",
     "height": 392
    },
    "colab_type": "code",
    "executionInfo": {
     "elapsed": 365260,
     "status": "error",
     "timestamp": 1559481976254,
     "user": {
      "displayName": "Prajwal Paudyal",
      "photoUrl": "https://lh6.googleusercontent.com/-BES8QkcnJVo/AAAAAAAAAAI/AAAAAAAAABE/DhpuWCaGI14/s64/photo.jpg",
      "userId": "11952230352989508976"
     },
     "user_tz": 420
    },
    "id": "IeazM7IjUAKf",
    "outputId": "756d8e13-28b1-48ac-ec50-eed48ee03e2a"
   },
   "outputs": [
    {
     "name": "stdout",
     "output_type": "stream",
     "text": [
      "Epoch 1/30\n"
     ]
    }
   ],
   "source": [
    "#fitting the model\n",
    "history = model.fit_generator(train_generator, steps_per_epoch=100, epochs=30, validation_data=validation_generator, validation_steps=50)"
   ]
  },
  {
   "cell_type": "code",
   "execution_count": 0,
   "metadata": {
    "colab": {},
    "colab_type": "code",
    "id": "7L7t2AI6Ui26"
   },
   "outputs": [],
   "source": []
  }
 ],
 "metadata": {
  "accelerator": "GPU",
  "colab": {
   "name": "computerVision_catsDogs.ipynb",
   "provenance": [],
   "version": "0.3.2"
  },
  "kernelspec": {
   "display_name": "Python 3",
   "language": "python",
   "name": "python3"
  },
  "language_info": {
   "codemirror_mode": {
    "name": "ipython",
    "version": 3
   },
   "file_extension": ".py",
   "mimetype": "text/x-python",
   "name": "python",
   "nbconvert_exporter": "python",
   "pygments_lexer": "ipython3",
   "version": "3.7.3"
  }
 },
 "nbformat": 4,
 "nbformat_minor": 1
}
